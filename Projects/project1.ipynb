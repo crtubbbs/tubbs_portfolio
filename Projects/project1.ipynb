{
  "cells": [
    {
      "cell_type": "raw",
      "metadata": {},
      "source": [
        "---\n",
        "title: \"Client Report - What’s in a name?\"\n",
        "subtitle: \"Course DS 250\"\n",
        "author: \"Caleb Tubbs\"\n",
        "format:\n",
        "  html:\n",
        "    self-contained: true\n",
        "    page-layout: full\n",
        "    title-block-banner: true\n",
        "    toc: true\n",
        "    toc-depth: 3\n",
        "    toc-location: body\n",
        "    number-sections: false\n",
        "    html-math-method: katex\n",
        "    code-fold: true\n",
        "    code-summary: \"Show the code\"\n",
        "    code-overflow: wrap\n",
        "    code-copy: hover\n",
        "    code-tools:\n",
        "        source: false\n",
        "        toggle: true\n",
        "        caption: See code\n",
        "execute: \n",
        "  warning: false\n",
        "    \n",
        "---"
      ],
      "id": "0a9517ae"
    },
    {
      "cell_type": "code",
      "metadata": {},
      "source": [
        "#| label: libraries\n",
        "#| include: false\n",
        "import pandas as pd\n",
        "import numpy as np\n",
        "import plotly.express as px"
      ],
      "id": "libraries",
      "execution_count": null,
      "outputs": []
    },
    {
      "cell_type": "markdown",
      "metadata": {},
      "source": [
        "## Elevator pitch\n",
        "\n",
        "_paste your elevator pitch here_\n",
        "_A SHORT (4-5 SENTENCES) PARAGRAPH THAT `DESCRIBES KEY INSIGHTS` TAKEN FROM METRICS IN THE PROJECT RESULTS THINK TOP OR MOST IMPORTANT RESULTS._\n"
      ],
      "id": "37a781ad"
    },
    {
      "cell_type": "code",
      "metadata": {},
      "source": [
        "#| label: project data\n",
        "#| code-summary: defining df\n",
        "# Include and execute your code here\n",
        "df = pd.read_csv(\"https://github.com/byuidatascience/data4names/raw/master/data-raw/names_year/names_year.csv\")"
      ],
      "id": "project-data",
      "execution_count": null,
      "outputs": []
    },
    {
      "cell_type": "markdown",
      "metadata": {},
      "source": [
        "__Highlight the Questions and Tasks__\n",
        "\n",
        "## QUESTION|TASK 1\n",
        "\n",
        "How does your name at your birth year compare to its use historically?\n",
        "\n",
        "My name, Caleb, holds an intriguing history in terms of its popularity over time. In the year of my birth, 2002, it reached its peak with 11,655 thousand kids being named Caleb. Before that period, the name wasn't as widely utilized. However, in the years following my birth, its popularity has been on a gradual decline.\n"
      ],
      "id": "238cc534"
    },
    {
      "cell_type": "code",
      "metadata": {},
      "source": [
        "#| label: Q1\n",
        "#| code-summary: Sets birth year and all tie births to variables\n",
        "# Include and execute your code here\n",
        "\n",
        "birth = df.query('name == \"Caleb\" and year == 2002')\n",
        "alltime = df.query('name == \"Caleb\"')"
      ],
      "id": "Q1",
      "execution_count": null,
      "outputs": []
    },
    {
      "cell_type": "code",
      "metadata": {},
      "source": [
        "#| label: Q1 chart\n",
        "#| code-summary: displaying totals of kids named caleb in 2002\n",
        "#| fig-cap: 2002 Total kids named Caleb\n",
        "#| fig-align: center\n",
        "# Include and execute your code here\n",
        "display(birth.filter([\"year\",\"name\",\"Total\"]))"
      ],
      "id": "Q1-chart",
      "execution_count": null,
      "outputs": []
    },
    {
      "cell_type": "code",
      "metadata": {},
      "source": [
        "#| label: Q1 table\n",
        "#| code-summary: table of the name Caleb and its history\n",
        "#| tbl-cap: 'Table of kids named caleb '\n",
        "#| tbl-cap-location: top\n",
        "fig = px.bar(alltime, x='year', y='Total')\n",
        "fig.add_vline(x=2002)"
      ],
      "id": "Q1-table",
      "execution_count": null,
      "outputs": []
    },
    {
      "cell_type": "markdown",
      "metadata": {},
      "source": [
        "## QUESTION|TASK 2\n",
        "\n",
        "If you talked to someone named Brittany on the phone, what is your guess of his or her age? What ages would you not guess?\n",
        "\n",
        "If I talked to someone on the phone named Brittany there would be many assumptions that I make about her age. First thing I would guess is that she or he is about 33-34 based on the fact that the name Brittany peaked in 1990 so depending on the month they would fall into that category. I would be surprised if their age was anywhere older than 40 or younger than 24.\n"
      ],
      "id": "78fd7dbb"
    },
    {
      "cell_type": "code",
      "metadata": {},
      "source": [
        "#| label: Q2\n",
        "#| code-summary: defining the query of people named Brittany and getting the year and total correct\n",
        "\n",
        "\n",
        "brit = df.query('name == \"Brittany\"').filter(['name','year','Total'])"
      ],
      "id": "Q2",
      "execution_count": null,
      "outputs": []
    },
    {
      "cell_type": "markdown",
      "metadata": {},
      "source": [
        "_include figures in chunks and discuss your findings in the figure._\n"
      ],
      "id": "b9f4625e"
    },
    {
      "cell_type": "code",
      "metadata": {},
      "source": [
        "#| label: Q2 chart\n",
        "#| code-summary: plot of when brittany was a popular name\n",
        "#| fig-cap: Use of the Name Brittany\n",
        "#| fig-align: center\n",
        "fig = px.bar(brit, x='year', y='Total')\n",
        "fig.add_vline(x=1990)"
      ],
      "id": "Q2-chart",
      "execution_count": null,
      "outputs": []
    },
    {
      "cell_type": "markdown",
      "metadata": {},
      "source": [
        "## QUESTION|TASK 3\n",
        "\n",
        "Mary, Martha, Peter, and Paul are all Christian names. From 1920 - 2000, compare the name usage of each of the four names. What trends do you notice?\n",
        "\n",
        "The notable trends through the data is that the name Mary has always been the most popular name of them. The names have gone up and down over time but in the past 45 years the names have started to become less and less common. 1946-1957 was by far the most popular time for the names to be given.\n"
      ],
      "id": "4528ba4e"
    },
    {
      "cell_type": "code",
      "metadata": {},
      "source": [
        "#| label: Q3\n",
        "#| code-summary: putting names into a list\n",
        "names = ['Mary', 'Martha', 'Peter', 'Paul']"
      ],
      "id": "Q3",
      "execution_count": null,
      "outputs": []
    },
    {
      "cell_type": "markdown",
      "metadata": {},
      "source": [
        "_include figures in chunks and discuss your findings in the figure._\n"
      ],
      "id": "33d7a477"
    },
    {
      "cell_type": "code",
      "metadata": {},
      "source": [
        "#| label: Q3 chart\n",
        "#| code-summary: Filtering the correct data for the names\n",
        "\n",
        "filtered_data = df[df['name'].isin(names) & (df['year'] >= 1920) & (df['year'] <= 2000)]"
      ],
      "id": "Q3-chart",
      "execution_count": null,
      "outputs": []
    },
    {
      "cell_type": "code",
      "metadata": {},
      "source": [
        "#| label: Q3 table\n",
        "#| code-summary: Plotting the names and showing the differences that they have over time\n",
        "#| tbl-cap: Name Usage Comparison\n",
        "#| tbl-cap-location: top\n",
        "fig = px.bar(filtered_data, x='year', y='Total', color='name',\n",
        "             labels={'year': 'Year', 'Total': 'Total Occurrences'},\n",
        "             color_discrete_map={'Mary': 'blue', 'Martha': 'red', 'Peter': 'green', 'Paul': 'purple'})\n",
        "\n",
        "\n",
        "fig.add_vline(x=(1920 + 2000) / 2, line_dash=\"dash\", line_color=\"black\", annotation_text=\"Midpoint\")\n",
        "\n",
        "\n",
        "fig.show()"
      ],
      "id": "Q3-table",
      "execution_count": null,
      "outputs": []
    },
    {
      "cell_type": "markdown",
      "metadata": {},
      "source": [
        "## QUESTION|TASK 4\n",
        "\n",
        "Think of a unique name from a famous movie. Plot the usage of that name and see how changes line up with the movie release. Does it look like the movie had an effect on usage?\n",
        "\n",
        "You can see from the bar chart that the name Luke started to be more used after the first few movies of Star Wars came out. As time went on more and more people began to name their kids Luke and this can be largely due to the movies. When any of the Star Wars movies came out it would only take a year or two for the name to begin to spike in popularity.\n"
      ],
      "id": "c2040caf"
    },
    {
      "cell_type": "code",
      "metadata": {},
      "source": [
        "#| label: Q4 graph\n",
        "#| code-summary: Plotting the name luke\n",
        "#| tbl-cap: Name Usage Comparison\n",
        "#| tbl-cap-location: top\n",
        "\n",
        "name = 'Luke'\n",
        "\n",
        "filtered_data = df[df['name'] == name]\n",
        "\n",
        "\n",
        "fig = px.bar(filtered_data, x='year', y='Total',\n",
        "             title=f'Name Usage for {name} (1920-2000)',\n",
        "             labels={'year': 'Year', 'Total': 'Total Occurrences'})\n",
        "\n",
        "reference_years = [1977, 1980, 1983, 1999, 2002, 2005, 2015]\n",
        "\n",
        "for year in reference_years:\n",
        "    fig.add_vline(x=year, line_dash=\"dash\", line_color=\"black\")\n",
        "\n",
        "\n",
        "fig.show()"
      ],
      "id": "Q4-graph",
      "execution_count": null,
      "outputs": []
    }
  ],
  "metadata": {
    "kernelspec": {
      "name": "python3",
      "language": "python",
      "display_name": "Python 3 (ipykernel)"
    }
  },
  "nbformat": 4,
  "nbformat_minor": 5
}